{
 "cells": [
  {
   "cell_type": "code",
   "execution_count": 1,
   "metadata": {},
   "outputs": [],
   "source": [
    "from class_definitions import Trolley, Product"
   ]
  },
  {
   "cell_type": "markdown",
   "metadata": {},
   "source": [
    "First we set up the shop by defining the products"
   ]
  },
  {
   "cell_type": "code",
   "execution_count": 2,
   "metadata": {},
   "outputs": [],
   "source": [
    "CF1 = Product(\"Coffee\", 11.23)\n",
    "FR1 = Product(\"Fruit tea\", 3.11, 'BOGOF')\n",
    "SR1 = Product(\"Strawberries\", 5, 'Reduced', 0.5, 3)"
   ]
  },
  {
   "cell_type": "markdown",
   "metadata": {},
   "source": [
    "We create a product catalogue to link the product labels with the Product instances we have created. We can use this instead of the provided products dictionary from now on (as it contains the original information, with additional handling of different offers)"
   ]
  },
  {
   "cell_type": "code",
   "execution_count": 3,
   "metadata": {},
   "outputs": [],
   "source": [
    "product_catalogue = {\n",
    "    \"FR1\": {\n",
    "        \"Product\": FR1\n",
    "    },\n",
    "    \"SR1\": {\n",
    "        \"Product\": SR1\n",
    "    },\n",
    "    \"CF1\": {\n",
    "        \"Product\": CF1\n",
    "    }\n",
    "}"
   ]
  },
  {
   "cell_type": "markdown",
   "metadata": {},
   "source": [
    "Now the shop is set up, we can create a trolley and demonstrate the view function"
   ]
  },
  {
   "cell_type": "code",
   "execution_count": 4,
   "metadata": {},
   "outputs": [],
   "source": [
    "test_trolleys = [\n",
    "    [\"FR1\", \"SR1\", \"FR1\", \"CF1\"],\n",
    "    [\"FR1\", \"FR1\"],\n",
    "    [\"SR1\", \"SR1\", \"SR1\", \"FR1\"],\n",
    "]"
   ]
  },
  {
   "cell_type": "code",
   "execution_count": 5,
   "metadata": {},
   "outputs": [
    {
     "name": "stdout",
     "output_type": "stream",
     "text": [
      "1 x Coffee\n",
      "1 x Strawberries\n",
      "2 x Fruit tea\n"
     ]
    }
   ],
   "source": [
    "trolley = Trolley(test_trolleys[0], product_catalogue)\n",
    "trolley.view()"
   ]
  },
  {
   "cell_type": "markdown",
   "metadata": {},
   "source": [
    "We can add a product to the trolley"
   ]
  },
  {
   "cell_type": "code",
   "execution_count": 6,
   "metadata": {},
   "outputs": [
    {
     "name": "stdout",
     "output_type": "stream",
     "text": [
      "2 x Coffee\n",
      "1 x Strawberries\n",
      "2 x Fruit tea\n"
     ]
    }
   ],
   "source": [
    "trolley.add_product('CF1')\n",
    "trolley.view()"
   ]
  },
  {
   "cell_type": "markdown",
   "metadata": {},
   "source": [
    "And we can remove a product from the trolley"
   ]
  },
  {
   "cell_type": "code",
   "execution_count": 7,
   "metadata": {},
   "outputs": [
    {
     "name": "stdout",
     "output_type": "stream",
     "text": [
      "1 x Coffee\n",
      "1 x Strawberries\n",
      "2 x Fruit tea\n"
     ]
    }
   ],
   "source": [
    "trolley.remove_product('CF1')\n",
    "trolley.view()"
   ]
  },
  {
   "cell_type": "markdown",
   "metadata": {},
   "source": [
    "Finally, we can find the total cost of the products in the trolley"
   ]
  },
  {
   "cell_type": "code",
   "execution_count": 8,
   "metadata": {},
   "outputs": [
    {
     "data": {
      "text/plain": [
       "19.34"
      ]
     },
     "execution_count": 8,
     "metadata": {},
     "output_type": "execute_result"
    }
   ],
   "source": [
    "trolley.total_cost()"
   ]
  },
  {
   "cell_type": "markdown",
   "metadata": {},
   "source": [
    "We can check that this calculates the correct amount for each of the three test trolleys"
   ]
  },
  {
   "cell_type": "code",
   "execution_count": 9,
   "metadata": {},
   "outputs": [
    {
     "name": "stdout",
     "output_type": "stream",
     "text": [
      "Trolley 1: £19.34\n",
      "Trolley 2: £3.11\n",
      "Trolley 3: £16.61\n"
     ]
    }
   ],
   "source": [
    "checkout_queue = [Trolley(t, product_catalogue) for t in test_trolleys]\n",
    "\n",
    "for i, trolley in zip(range(1,4), checkout_queue):\n",
    "    print (\"Trolley \" + str(i) + \": £\" + str(trolley.total_cost()))"
   ]
  }
 ],
 "metadata": {
  "kernelspec": {
   "display_name": "Python 3",
   "language": "python",
   "name": "python3"
  },
  "language_info": {
   "codemirror_mode": {
    "name": "ipython",
    "version": 3
   },
   "file_extension": ".py",
   "mimetype": "text/x-python",
   "name": "python",
   "nbconvert_exporter": "python",
   "pygments_lexer": "ipython3",
   "version": "3.9.6"
  }
 },
 "nbformat": 4,
 "nbformat_minor": 2
}

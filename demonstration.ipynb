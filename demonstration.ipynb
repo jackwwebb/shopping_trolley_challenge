{
 "cells": [
  {
   "cell_type": "code",
   "execution_count": 2,
   "metadata": {},
   "outputs": [],
   "source": [
    "from class_definitions import products, Trolley, Product"
   ]
  },
  {
   "cell_type": "code",
   "execution_count": 3,
   "metadata": {},
   "outputs": [],
   "source": [
    "test_trolleys = [\n",
    "    [\"FR1\", \"SR1\", \"FR1\", \"CF1\"],\n",
    "    [\"FR1\", \"FR1\"],\n",
    "    [\"SR1\", \"SR1\", \"SR1\", \"FR1\"],\n",
    "]"
   ]
  },
  {
   "cell_type": "markdown",
   "metadata": {},
   "source": [
    "First, we create a trolley and demonstrate the view function"
   ]
  },
  {
   "cell_type": "code",
   "execution_count": 5,
   "metadata": {},
   "outputs": [
    {
     "name": "stdout",
     "output_type": "stream",
     "text": [
      "1 x Strawberries\n",
      "1 x Coffee\n",
      "2 x Fruit Tea\n"
     ]
    }
   ],
   "source": [
    "trolley = Trolley(test_trolleys[0])\n",
    "trolley.view()"
   ]
  },
  {
   "cell_type": "markdown",
   "metadata": {},
   "source": [
    "Secondly, we add a product to the trolley"
   ]
  },
  {
   "cell_type": "code",
   "execution_count": 6,
   "metadata": {},
   "outputs": [
    {
     "name": "stdout",
     "output_type": "stream",
     "text": [
      "1 x Strawberries\n",
      "2 x Coffee\n",
      "2 x Fruit Tea\n"
     ]
    }
   ],
   "source": [
    "trolley.add_product('CF1')\n",
    "trolley.view()"
   ]
  },
  {
   "cell_type": "markdown",
   "metadata": {},
   "source": [
    "Next, we remove a product from the trolley"
   ]
  },
  {
   "cell_type": "code",
   "execution_count": 7,
   "metadata": {},
   "outputs": [
    {
     "name": "stdout",
     "output_type": "stream",
     "text": [
      "1 x Strawberries\n",
      "1 x Coffee\n",
      "2 x Fruit Tea\n"
     ]
    }
   ],
   "source": [
    "trolley.remove_product('CF1')\n",
    "trolley.view()"
   ]
  },
  {
   "cell_type": "markdown",
   "metadata": {},
   "source": [
    "Finally, we will find the total cost of the products in the trolley.\n",
    "\n",
    "To do this, we must create each of the products as instances of the product class, with their relevant offers. \n",
    "\n",
    "We also create a product catalogue, so we can link up the product names with the product instances we have created"
   ]
  },
  {
   "cell_type": "code",
   "execution_count": 9,
   "metadata": {},
   "outputs": [],
   "source": [
    "coffee = Product(11.23)\n",
    "fruit_tea = Product(3.11, 'BOGOF')\n",
    "strawberries = Product(5, 'Reduced', 0.5, 3)\n",
    "\n",
    "product_catalogue = {\n",
    "    \"FR1\": {\n",
    "        \"Product\": fruit_tea\n",
    "    },\n",
    "    \"SR1\": {\n",
    "        \"Product\": strawberries\n",
    "    },\n",
    "    \"CF1\": {\n",
    "        \"Product\": coffee\n",
    "    }\n",
    "}"
   ]
  },
  {
   "cell_type": "markdown",
   "metadata": {},
   "source": [
    "Now we can calculate the total costs of each of the three test trolleys"
   ]
  },
  {
   "cell_type": "code",
   "execution_count": 13,
   "metadata": {},
   "outputs": [
    {
     "name": "stdout",
     "output_type": "stream",
     "text": [
      "Trolley 1: £19.34\n",
      "Trolley 2: £3.11\n",
      "Trolley 3: £16.61\n"
     ]
    }
   ],
   "source": [
    "checkout_queue = [Trolley(t) for t in test_trolleys]\n",
    "\n",
    "i = 1\n",
    "for trolley in checkout_queue:\n",
    "    print (\"Trolley \" + str(i) + \": £\" + str(trolley.total_cost(product_catalogue)))\n",
    "    i += 1"
   ]
  }
 ],
 "metadata": {
  "kernelspec": {
   "display_name": "Python 3",
   "language": "python",
   "name": "python3"
  },
  "language_info": {
   "codemirror_mode": {
    "name": "ipython",
    "version": 3
   },
   "file_extension": ".py",
   "mimetype": "text/x-python",
   "name": "python",
   "nbconvert_exporter": "python",
   "pygments_lexer": "ipython3",
   "version": "3.9.6"
  }
 },
 "nbformat": 4,
 "nbformat_minor": 2
}
